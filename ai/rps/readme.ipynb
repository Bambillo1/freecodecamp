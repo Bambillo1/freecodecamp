{
 "cells": [
  {
   "cell_type": "markdown",
   "id": "recorded-durham",
   "metadata": {},
   "source": [
    "# Rock Paper Scissors"
   ]
  },
  {
   "cell_type": "markdown",
   "id": "blond-sharp",
   "metadata": {},
   "source": [
    "## Note\n",
    "\n",
    "**Have no idea**. Need to learn this more serious.\n",
    "\n",
    "Time spent here: 2h"
   ]
  },
  {
   "cell_type": "markdown",
   "id": "conventional-seller",
   "metadata": {},
   "source": [
    "### Think like FCC\n",
    "\n",
    "I was really tempted to look into the game driver code and learn about\n",
    "how other players is implemented, but I didn't\n",
    "\n",
    "Since we're not suppose to look in the opponent implementations, let's\n",
    "think about how would FCC implement them.\n",
    "\n",
    "- **Completely random**: this is a no, because if so, we have no way to\n",
    "predict.\n",
    "- **Favor a kind of move** more than the other 2: this is possible, we\n",
    "will need to calculate the statistic to find the favored items.\n",
    "- **Favor but never repeat**, similar with above, but opponent will never\n",
    "use same move continuously more than `n` times.\n",
    "- **Counter move**, for example, if his previous move is `R`, the opponent\n",
    "might \"think\" that we want to play `P` next, so he play `S`. For this\n",
    "case, we should use the same with opponent previous move. I don't think\n",
    "FCC would implement such logic, as it's too simple, no random\n",
    "- **Repetitive**, basically just repeat a list of moves.\n",
    "- **Random but never repeat**, there's could be other variants like accept\n",
    "maximum 2 or 3 repeats.\n",
    "- **Repeat before next random**, a series of `n` repeated `R`, then pick\n",
    "randomly next move and repeat them `n` times.\n",
    "- **Multi strategy**, perhaps one of the 4 bots is can perform all above\n",
    "strategies, and will switch when he lose a lot."
   ]
  },
  {
   "cell_type": "markdown",
   "id": "duplicate-harvard",
   "metadata": {},
   "source": [
    "### Implementation ideas\n",
    "\n",
    "For each strategy our opponent can employ, we should have a counter\n",
    "strategy. We will need to use random move for a while, until we have\n",
    "enougb data to see his strategy.\n",
    "\n",
    "However, since this is just a game, I don't think we should try to be\n",
    "perfect and implement all ideas we have. We will just add enough code\n",
    "until we beat all the bots.\n",
    "\n",
    "That means the code in the [Solution](#Solution) section below doesn't\n",
    "grow linearly."
   ]
  },
  {
   "cell_type": "markdown",
   "id": "metallic-matter",
   "metadata": {},
   "source": [
    "## Problem"
   ]
  },
  {
   "cell_type": "markdown",
   "id": "unable-appreciation",
   "metadata": {},
   "source": [
    "### Assignment"
   ]
  },
  {
   "cell_type": "markdown",
   "id": "contained-intellectual",
   "metadata": {},
   "source": [
    "For this challenge, you will create a program to play Rock, Paper, Scissors.\n",
    "A program that picks at random will usually win 50% of the time. To pass\n",
    "this challenge your program must play matches against four different bots,\n",
    "winning at least 60% of the games in each match."
   ]
  },
  {
   "cell_type": "markdown",
   "id": "pressing-aquatic",
   "metadata": {},
   "source": [
    "In the file `RPS.py` you are provided with a function called `player`. The\n",
    "function takes an argument that is a string describing the last move of the\n",
    "opponent (\"R\", \"P\", or \"S\"). The function should return a string\n",
    "representing the next move for it to play (\"R\", \"P\", or \"S\")."
   ]
  },
  {
   "cell_type": "markdown",
   "id": "reasonable-posting",
   "metadata": {},
   "source": [
    "A player function will receive an empty string as an argument for the first\n",
    "game in a match since there is no previous play."
   ]
  },
  {
   "cell_type": "markdown",
   "id": "affected-assessment",
   "metadata": {},
   "source": [
    "The file `RPS.py` shows an example function that you will need to update.\n",
    "The example function is defined with two arguments\n",
    "(`player(prev_play, opponent_history = [])`). The function is never called\n",
    "with a second argument so that one is completely optional. The reason why\n",
    "the example function contains a second argument (`opponent_history = []`) is\n",
    "because that is the only way to save state between consecutive calls of the\n",
    "`player` function. You only need the `opponent_history` argument if you want\n",
    "to keep track of the opponent_history."
   ]
  },
  {
   "cell_type": "markdown",
   "id": "animated-timeline",
   "metadata": {},
   "source": [
    "_Hint: To defeat all four opponents, your program may need to have multiple\n",
    "strategies that change depending on the plays of the opponent._"
   ]
  },
  {
   "cell_type": "markdown",
   "id": "medieval-convertible",
   "metadata": {},
   "source": [
    "### Development"
   ]
  },
  {
   "cell_type": "markdown",
   "id": "simple-positive",
   "metadata": {},
   "source": [
    "Do not modify `RPS_game.py`. Write all your code in `RPS.py`. For\n",
    "development, you can use `main.py` to test your code."
   ]
  },
  {
   "cell_type": "markdown",
   "id": "accessory-accessory",
   "metadata": {},
   "source": [
    "`main.py` imports the game function and bots from `RPS_game.py`."
   ]
  },
  {
   "cell_type": "markdown",
   "id": "acute-chambers",
   "metadata": {},
   "source": [
    "To test your code, play a game with the `play` function. The `play` function\n",
    "takes four arguments:"
   ]
  },
  {
   "cell_type": "markdown",
   "id": "cellular-chart",
   "metadata": {},
   "source": [
    "- two players to play against each other (the players are actually\n",
    "  functions)\n",
    "- the number of games to play in the match\n",
    "- an optional argument to see a log of each game. Set it to `True` to see\n",
    "  these messages."
   ]
  },
  {
   "cell_type": "markdown",
   "id": "political-exclusive",
   "metadata": {},
   "source": [
    "```py\n",
    "play(player1, player2, num_games[, verbose])\n",
    "```"
   ]
  },
  {
   "cell_type": "markdown",
   "id": "eligible-innocent",
   "metadata": {},
   "source": [
    "For example, here is how you would call the function if you want `player`\n",
    "and `quincy` to play 1000 games against each other and you want to see the\n",
    "results of each game:"
   ]
  },
  {
   "cell_type": "markdown",
   "id": "acceptable-elizabeth",
   "metadata": {},
   "source": [
    "```py\n",
    "play(player, quincy, 1000, verbose=True)\n",
    "```"
   ]
  },
  {
   "cell_type": "markdown",
   "id": "common-comedy",
   "metadata": {},
   "source": [
    "## Solution"
   ]
  },
  {
   "cell_type": "code",
   "execution_count": null,
   "id": "substantial-arrangement",
   "metadata": {},
   "outputs": [],
   "source": [
    "import random\n",
    "from collections import Counter"
   ]
  },
  {
   "cell_type": "markdown",
   "id": "comprehensive-sending",
   "metadata": {},
   "source": [
    "Map between a move and its counter."
   ]
  },
  {
   "cell_type": "code",
   "execution_count": null,
   "id": "behind-panic",
   "metadata": {
    "lines_to_next_cell": 2
   },
   "outputs": [],
   "source": [
    "counter_move = {\"R\": \"P\", \"P\": \"S\", \"S\": \"R\"}"
   ]
  },
  {
   "cell_type": "markdown",
   "id": "encouraging-conducting",
   "metadata": {
    "lines_to_next_cell": 2
   },
   "source": [
    "This is our random move picker"
   ]
  },
  {
   "cell_type": "code",
   "execution_count": null,
   "id": "fifty-drawing",
   "metadata": {
    "lines_to_next_cell": 2
   },
   "outputs": [],
   "source": [
    "def rand_move():\n",
    "    moves = [\"R\", \"P\", \"S\"]\n",
    "    i = random.randint(0, 2)\n",
    "    return moves[i]"
   ]
  },
  {
   "cell_type": "markdown",
   "id": "sophisticated-running",
   "metadata": {
    "lines_to_next_cell": 2
   },
   "source": [
    "Counter strategy for **Favor**. This beat one of the bot."
   ]
  },
  {
   "cell_type": "code",
   "execution_count": null,
   "id": "animated-intelligence",
   "metadata": {
    "lines_to_next_cell": 2
   },
   "outputs": [],
   "source": [
    "def counter_favor(total: int, freq: Counter) -> str:\n",
    "    next_move_id = random.randint(0, total)\n",
    "\n",
    "    our = \"R\"\n",
    "    if 0 <= next_move_id < freq[\"R\"]:\n",
    "        our = \"P\"\n",
    "    elif freq[\"R\"] <= next_move_id < freq[\"R\"] + freq[\"P\"]:\n",
    "        our = \"S\"\n",
    "\n",
    "    if random.randint(0, 2) % 2 != 0:\n",
    "        our = counter_move[our]\n",
    "\n",
    "    return our"
   ]
  },
  {
   "cell_type": "markdown",
   "id": "selective-oakland",
   "metadata": {
    "lines_to_next_cell": 2
   },
   "source": [
    "Counter strategy for **Favor no repeat**. This beat one of the bot."
   ]
  },
  {
   "cell_type": "code",
   "execution_count": null,
   "id": "relative-anderson",
   "metadata": {
    "lines_to_next_cell": 2
   },
   "outputs": [],
   "source": [
    "def counter_favor_no_repeat(total: int, prev: str, freq: Counter) -> str:\n",
    "    next_move_id = random.randint(0, total)\n",
    "\n",
    "    guess = \"R\"\n",
    "    if 0 <= next_move_id <= freq[\"R\"]:\n",
    "        guess = \"P\"\n",
    "    elif freq[\"R\"] <= next_move_id <= freq[\"R\"] + freq[\"P\"]:\n",
    "        guess = \"S\"\n",
    "\n",
    "    if guess == prev:\n",
    "        guess = counter_move[counter_move[guess]]\n",
    "\n",
    "    return guess"
   ]
  },
  {
   "cell_type": "markdown",
   "id": "delayed-dollar",
   "metadata": {
    "lines_to_next_cell": 2
   },
   "source": [
    "Our player implementation"
   ]
  },
  {
   "cell_type": "code",
   "execution_count": null,
   "id": "confused-association",
   "metadata": {
    "lines_to_next_cell": 2
   },
   "outputs": [],
   "source": [
    "def player(prev_play, opponent_history=[]):\n",
    "    opponent_history.append(prev_play)\n",
    "    hist = opponent_history\n",
    "    freq = Counter(opponent_history)\n",
    "    total = sum(freq.values())\n",
    "\n",
    "    # if we don't have enough data to guess,\n",
    "    # or previous play is invalid,\n",
    "    # then just play randomly\n",
    "    if total < 10 or prev_play == \"\":\n",
    "        return rand_move()\n",
    "\n",
    "    # if there's a repetitive patterns of recently moves,\n",
    "    # use our counter strategy.\n",
    "    rev_hist = list(reversed(hist))\n",
    "    n = 3\n",
    "    is_hist_repeat = all(\n",
    "        rev_hist[i * n : (i + 1) * n] == rev_hist[0:n]\n",
    "        for i in range(1, int(total / n))\n",
    "    )\n",
    "    if is_hist_repeat:\n",
    "        return counter_move[rev_hist[1]]\n",
    "\n",
    "    almost_random = any([0.35 >= p / total >= 0.32 for p in freq.values()])\n",
    "    never_repeat = all([hist[i] != hist[i - 1] for i in range(0, total)])\n",
    "    if almost_random and never_repeat:\n",
    "        return rand_move()\n",
    "\n",
    "    # if we found any move that appears more frequently than other,\n",
    "    # use our counter strategy\n",
    "    if any([p / total > 0.4 for p in freq.values()]):\n",
    "        if never_repeat:\n",
    "            return counter_favor_no_repeat(total, prev_play, freq)\n",
    "        else:\n",
    "            return counter_favor(total, freq)\n",
    "\n",
    "    # if opponent always try to counter his previous move\n",
    "    # doesn't work\n",
    "    # is_self_counter = all(\n",
    "    #     [hist[i] == counter_move[hist[i - 1]]\n",
    "    #      for i in range(total - 1, total - 10, -1)]\n",
    "    # )\n",
    "    # if is_self_counter:\n",
    "    #     return counter_move[counter_move[prev_play]]\n",
    "\n",
    "    return counter_move[prev_play]"
   ]
  },
  {
   "cell_type": "markdown",
   "id": "static-methodology",
   "metadata": {},
   "source": [
    "## Game driver"
   ]
  },
  {
   "cell_type": "markdown",
   "id": "greater-shore",
   "metadata": {
    "lines_to_next_cell": 2
   },
   "source": [
    "This is provided by FCC."
   ]
  },
  {
   "cell_type": "code",
   "execution_count": null,
   "id": "final-bones",
   "metadata": {},
   "outputs": [],
   "source": [
    "def play(player1, player2, num_games, verbose=False):\n",
    "    p1_prev_play = \"\"\n",
    "    p2_prev_play = \"\"\n",
    "    results = {\"p1\": 0, \"p2\": 0, \"tie\": 0}\n",
    "\n",
    "    for _ in range(num_games):\n",
    "        p1_play = player1(p2_prev_play)\n",
    "        p2_play = player2(p1_prev_play)\n",
    "\n",
    "        if p1_play == p2_play:\n",
    "            results[\"tie\"] += 1\n",
    "            winner = \"Tie.\"\n",
    "        elif (\n",
    "            (p1_play == \"P\" and p2_play == \"R\")\n",
    "            or (p1_play == \"R\" and p2_play == \"S\")\n",
    "            or (p1_play == \"S\" and p2_play == \"P\")\n",
    "        ):\n",
    "            results[\"p1\"] += 1\n",
    "            winner = \"Player 1 wins.\"\n",
    "        elif (\n",
    "            p2_play == \"P\"\n",
    "            and p1_play == \"R\"\n",
    "            or p2_play == \"R\"\n",
    "            and p1_play == \"S\"\n",
    "            or p2_play == \"S\"\n",
    "            and p1_play == \"P\"\n",
    "        ):\n",
    "            results[\"p2\"] += 1\n",
    "            winner = \"Player 2 wins.\"\n",
    "\n",
    "        if verbose:\n",
    "            print(\"Player 1:\", p1_play, \"| Player 2:\", p2_play)\n",
    "            print(winner)\n",
    "            print()\n",
    "\n",
    "        p1_prev_play = p1_play\n",
    "        p2_prev_play = p2_play\n",
    "\n",
    "    games_won = results[\"p2\"] + results[\"p1\"]\n",
    "\n",
    "    if games_won == 0:\n",
    "        win_rate = 0\n",
    "    else:\n",
    "        win_rate = results[\"p1\"] / games_won * 100\n",
    "\n",
    "    print(\"Final results:\", results)\n",
    "    print(f\"Player 1 win rate: {win_rate}%\")\n",
    "\n",
    "    return win_rate"
   ]
  },
  {
   "cell_type": "code",
   "execution_count": null,
   "id": "alive-assault",
   "metadata": {},
   "outputs": [],
   "source": [
    "def quincy(prev_play, counter=[0]):\n",
    "    counter[0] += 1\n",
    "    choices = [\"R\", \"R\", \"P\", \"P\", \"S\"]\n",
    "    return choices[counter[0] % len(choices)]"
   ]
  },
  {
   "cell_type": "code",
   "execution_count": null,
   "id": "fixed-subdivision",
   "metadata": {},
   "outputs": [],
   "source": [
    "def mrugesh(prev_opponent_play, opponent_history=[]):\n",
    "    opponent_history.append(prev_opponent_play)\n",
    "    last_ten = opponent_history[-10:]\n",
    "    most_frequent = max(set(last_ten), key=last_ten.count)\n",
    "\n",
    "    if most_frequent == \"\":\n",
    "        most_frequent = \"S\"\n",
    "\n",
    "    ideal_response = {\"P\": \"S\", \"R\": \"P\", \"S\": \"R\"}\n",
    "    return ideal_response[most_frequent]"
   ]
  },
  {
   "cell_type": "code",
   "execution_count": null,
   "id": "equivalent-million",
   "metadata": {},
   "outputs": [],
   "source": [
    "def kris(prev_opponent_play):\n",
    "    if prev_opponent_play == \"\":\n",
    "        prev_opponent_play = \"R\"\n",
    "    ideal_response = {\"P\": \"S\", \"R\": \"P\", \"S\": \"R\"}\n",
    "    return ideal_response[prev_opponent_play]"
   ]
  },
  {
   "cell_type": "code",
   "execution_count": null,
   "id": "identified-worth",
   "metadata": {},
   "outputs": [],
   "source": [
    "def abbey(\n",
    "    prev_opponent_play,\n",
    "    opponent_history=[],\n",
    "    play_order=[\n",
    "        {\n",
    "            \"RR\": 0,\n",
    "            \"RP\": 0,\n",
    "            \"RS\": 0,\n",
    "            \"PR\": 0,\n",
    "            \"PP\": 0,\n",
    "            \"PS\": 0,\n",
    "            \"SR\": 0,\n",
    "            \"SP\": 0,\n",
    "            \"SS\": 0,\n",
    "        }\n",
    "    ],\n",
    "):\n",
    "    if not prev_opponent_play:\n",
    "        prev_opponent_play = \"R\"\n",
    "    opponent_history.append(prev_opponent_play)\n",
    "\n",
    "    last_two = \"\".join(opponent_history[-2:])\n",
    "    if len(last_two) == 2:\n",
    "        play_order[0][last_two] += 1\n",
    "\n",
    "    potential_plays = [\n",
    "        prev_opponent_play + \"R\",\n",
    "        prev_opponent_play + \"P\",\n",
    "        prev_opponent_play + \"S\",\n",
    "    ]\n",
    "\n",
    "    sub_order = {\n",
    "        k: play_order[0][k] for k in potential_plays if k in play_order[0]\n",
    "    }\n",
    "\n",
    "    prediction = max(sub_order, key=sub_order.get)[-1:]\n",
    "\n",
    "    ideal_response = {\"P\": \"S\", \"R\": \"P\", \"S\": \"R\"}\n",
    "    return ideal_response[prediction]"
   ]
  },
  {
   "cell_type": "code",
   "execution_count": null,
   "id": "ancient-intermediate",
   "metadata": {},
   "outputs": [],
   "source": [
    "def human(prev_opponent_play):\n",
    "    play = \"\"\n",
    "    while play not in [\"R\", \"P\", \"S\"]:\n",
    "        play = input(\"[R]ock, [P]aper, [S]cissors? \")\n",
    "        print(play)\n",
    "    return play"
   ]
  },
  {
   "cell_type": "code",
   "execution_count": null,
   "id": "white-native",
   "metadata": {},
   "outputs": [],
   "source": [
    "def random_player(prev_opponent_play):\n",
    "    return random.choice([\"R\", \"P\", \"S\"])"
   ]
  },
  {
   "cell_type": "markdown",
   "id": "cultural-characterization",
   "metadata": {},
   "source": [
    "## Playground"
   ]
  },
  {
   "cell_type": "code",
   "execution_count": null,
   "id": "concrete-glance",
   "metadata": {},
   "outputs": [],
   "source": [
    "# play(player, quincy, 1000) # hist repeat\n",
    "# play(player, mrugesh, 1000) # hist repeat\n",
    "play(player, abbey, 1000)\n",
    "# play(player, kris, 1000)"
   ]
  },
  {
   "cell_type": "markdown",
   "id": "interstate-zealand",
   "metadata": {},
   "source": [
    "## Test"
   ]
  }
 ],
 "metadata": {
  "jupytext": {
   "hide_notebook_metadata": true
  },
  "kernelspec": {
   "display_name": "Python 3",
   "language": "python",
   "name": "python3"
  }
 },
 "nbformat": 4,
 "nbformat_minor": 5
}
