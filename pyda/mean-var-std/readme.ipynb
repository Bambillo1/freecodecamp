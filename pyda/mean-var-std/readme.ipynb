{
 "cells": [
  {
   "cell_type": "markdown",
   "id": "martial-saturn",
   "metadata": {},
   "source": [
    "# Mean-Variance-Standard Deviation Calculator"
   ]
  },
  {
   "cell_type": "markdown",
   "id": "starting-persian",
   "metadata": {
    "lines_to_next_cell": 2
   },
   "source": [
    "## Note\n",
    "\n",
    "This is just about basic numpy operator, requires a bit of discovering.\n",
    "\n",
    "Time for this problem: 35m (5m for the code, 30 to make the test work in\n",
    "notebook format)"
   ]
  },
  {
   "cell_type": "markdown",
   "id": "satisfactory-entry",
   "metadata": {},
   "source": [
    "## Problem description\n",
    "\n",
    "Content of this section is copied and reformatted from [this\n",
    "repl.it](https://repl.it/github/freeCodeCamp/boilerplate-mean-variance-standard-deviation-calculator),\n",
    "so that you can understand what the code does (and I get to render a nice\n",
    "contentful page).\n",
    "\n",
    "### Assigment\n",
    "\n",
    "Create a function named `calculate()` in `mean_var_std.py` that uses Numpy to\n",
    "output the mean, variance, standard deviation, max, min, and sum of the rows,\n",
    "columns, and elements in a 3 x 3 matrix.\n",
    "\n",
    "The input of the function should be a list containing 9 digits. The function\n",
    "should convert the list into a 3 x 3 Numpy array, and then return a dictionary\n",
    "containing the mean, variance, standard deviation, max, min, and sum along both\n",
    "axes and for the flattened matrix.\n",
    "\n",
    "The returned dictionary should follow this format:\n",
    "\n",
    "```py\n",
    "{\n",
    "  'mean': [axis1, axis2, flattened],\n",
    "  'variance': [axis1, axis2, flattened],\n",
    "  'standard deviation': [axis1, axis2, flattened],\n",
    "  'max': [axis1, axis2, flattened],\n",
    "  'min': [axis1, axis2, flattened],\n",
    "  'sum': [axis1, axis2, flattened]\n",
    "}\n",
    "```\n",
    "\n",
    "If a list containing less than 9 elements is passed into the function, it\n",
    "should raise a `ValueError` exception with the message: \"List must contain\n",
    "nine numbers.\" The values in the returned dictionary should be lists and not\n",
    "Numpy arrays.\n",
    "\n",
    "For example, `calculate([0,1,2,3,4,5,6,7,8])` should return:\n",
    "```py\n",
    "{\n",
    "  'mean': [[3.0, 4.0, 5.0], [1.0, 4.0, 7.0], 4.0],\n",
    "  'variance': [[6.0, 6.0, 6.0], [0.6666666666666666, 0.6666666666666666, 0.6666666666666666], 6.666666666666667],\n",
    "  'standard deviation': [[2.449489742783178, 2.449489742783178, 2.449489742783178], [0.816496580927726, 0.816496580927726, 0.816496580927726], 2.581988897471611],\n",
    "  'max': [[6, 7, 8], [2, 5, 8], 8],\n",
    "  'min': [[0, 1, 2], [0, 3, 6], 0],\n",
    "  'sum': [[9, 12, 15], [3, 12, 21], 36]\n",
    "}\n",
    "```\n",
    "\n",
    "The unit tests for this project are in `test_module.py`.\n",
    "\n",
    "### Development\n",
    "\n",
    "For development, you can use `main.py` to test your `calculate()` function.\n",
    "Click the \"run\" button and `main.py` will run.\n",
    "\n",
    "### Testing\n",
    "\n",
    "We imported the tests from `test_module.py` to `main.py` for your convenience.\n",
    "The tests will run automatically whenever you hit the \"run\" button.\n",
    "\n",
    "### Submitting\n",
    "\n",
    "Copy your project's URL and submit it to freeCodeCamp."
   ]
  },
  {
   "cell_type": "markdown",
   "id": "numeric-tribune",
   "metadata": {
    "lines_to_next_cell": 2
   },
   "source": [
    "## Solution"
   ]
  },
  {
   "cell_type": "code",
   "execution_count": null,
   "id": "olive-welcome",
   "metadata": {},
   "outputs": [],
   "source": [
    "from pprint import pprint"
   ]
  },
  {
   "cell_type": "code",
   "execution_count": null,
   "id": "brazilian-blond",
   "metadata": {},
   "outputs": [],
   "source": [
    "import numpy as np"
   ]
  },
  {
   "cell_type": "code",
   "execution_count": null,
   "id": "hollow-brick",
   "metadata": {},
   "outputs": [],
   "source": [
    "def calculate(arr):\n",
    "    if len(arr) != 9:\n",
    "        raise ValueError(\"List must contain nine numbers.\")\n",
    "\n",
    "    m = np.array(arr).reshape([3, 3])\n",
    "    r = {\n",
    "        \"mean\": [m.mean(0).tolist(), m.mean(1).tolist(), m.mean()],\n",
    "        \"variance\": [m.var(0).tolist(), m.var(1).tolist(), m.var()],\n",
    "        \"standard deviation\": [m.std(0).tolist(), m.std(1).tolist(), m.std()],\n",
    "        \"max\": [m.max(0).tolist(), m.max(1).tolist(), m.max()],\n",
    "        \"min\": [m.min(0).tolist(), m.min(1).tolist(), m.min()],\n",
    "        \"sum\": [m.sum(0).tolist(), m.sum(1).tolist(), m.sum()],\n",
    "    }\n",
    "    return r"
   ]
  },
  {
   "cell_type": "code",
   "execution_count": null,
   "id": "resident-vintage",
   "metadata": {},
   "outputs": [],
   "source": [
    "pprint(calculate([i for i in range(0, 9)]))"
   ]
  },
  {
   "cell_type": "markdown",
   "id": "cloudy-delight",
   "metadata": {
    "lines_to_next_cell": 2
   },
   "source": [
    "## Test\n",
    "\n",
    "The test code is provided by FCC, in the repl.it link. I modified it a bit to\n",
    "make it runnable in notebook."
   ]
  },
  {
   "cell_type": "code",
   "execution_count": null,
   "id": "pending-ministry",
   "metadata": {},
   "outputs": [],
   "source": [
    "import unittest"
   ]
  },
  {
   "cell_type": "code",
   "execution_count": null,
   "id": "individual-raise",
   "metadata": {},
   "outputs": [],
   "source": [
    "class UnitTests(unittest.TestCase):\n",
    "    def test_calculate(self):\n",
    "        actual = calculate([2, 6, 2, 8, 4, 0, 1, 5, 7])\n",
    "        expected = {\n",
    "            \"mean\": [\n",
    "                [3.6666666666666665, 5.0, 3.0],\n",
    "                [3.3333333333333335, 4.0, 4.333333333333333],\n",
    "                3.888888888888889,\n",
    "            ],\n",
    "            \"variance\": [\n",
    "                [9.555555555555557, 0.6666666666666666, 8.666666666666666],\n",
    "                [3.555555555555556, 10.666666666666666, 6.222222222222221],\n",
    "                6.987654320987654,\n",
    "            ],\n",
    "            \"standard deviation\": [\n",
    "                [3.091206165165235, 0.816496580927726, 2.943920288775949],\n",
    "                [1.8856180831641267, 3.265986323710904, 2.494438257849294],\n",
    "                2.6434171674156266,\n",
    "            ],\n",
    "            \"max\": [[8, 6, 7], [6, 8, 7], 8],\n",
    "            \"min\": [[1, 4, 0], [2, 0, 1], 0],\n",
    "            \"sum\": [[11, 15, 9], [10, 12, 13], 35],\n",
    "        }\n",
    "        self.assertAlmostEqual(\n",
    "            actual,\n",
    "            expected,\n",
    "            \"Expected different output when calling 'calculate()' with '[2,6,2,8,4,0,1,5,7]'\",\n",
    "        )\n",
    "\n",
    "    def test_calculate2(self):\n",
    "        actual = calculate([9, 1, 5, 3, 3, 3, 2, 9, 0])\n",
    "        expected = {\n",
    "            \"mean\": [\n",
    "                [4.666666666666667, 4.333333333333333, 2.6666666666666665],\n",
    "                [5.0, 3.0, 3.6666666666666665],\n",
    "                3.888888888888889,\n",
    "            ],\n",
    "            \"variance\": [\n",
    "                [9.555555555555555, 11.555555555555557, 4.222222222222222],\n",
    "                [10.666666666666666, 0.0, 14.888888888888891],\n",
    "                9.209876543209875,\n",
    "            ],\n",
    "            \"standard deviation\": [\n",
    "                [3.0912061651652345, 3.39934634239519, 2.0548046676563256],\n",
    "                [3.265986323710904, 0.0, 3.8586123009300755],\n",
    "                3.0347778408328137,\n",
    "            ],\n",
    "            \"max\": [[9, 9, 5], [9, 3, 9], 9],\n",
    "            \"min\": [[2, 1, 0], [1, 3, 0], 0],\n",
    "            \"sum\": [[14, 13, 8], [15, 9, 11], 35],\n",
    "        }\n",
    "        self.assertAlmostEqual(\n",
    "            actual,\n",
    "            expected,\n",
    "            \"Expected different output when calling 'calculate()' with '[9,1,5,3,3,3,2,9,0]'\",\n",
    "        )\n",
    "\n",
    "    def test_calculate_with_few_digits(self):\n",
    "        self.assertRaisesRegex(\n",
    "            ValueError,\n",
    "            \"List must contain nine numbers.\",\n",
    "            calculate,\n",
    "            [\n",
    "                2,\n",
    "                6,\n",
    "                2,\n",
    "                8,\n",
    "                4,\n",
    "                0,\n",
    "                1,\n",
    "            ],\n",
    "        )"
   ]
  },
  {
   "cell_type": "code",
   "execution_count": null,
   "id": "improved-tunisia",
   "metadata": {},
   "outputs": [],
   "source": [
    "if __name__ == \"__main__\":\n",
    "    unittest.main(argv=[\"first-arg-is-ignored\"], exit=False)"
   ]
  }
 ],
 "metadata": {
  "jupytext": {
   "hide_notebook_metadata": true
  },
  "kernelspec": {
   "display_name": "Python 3",
   "language": "python",
   "name": "python3"
  }
 },
 "nbformat": 4,
 "nbformat_minor": 5
}
