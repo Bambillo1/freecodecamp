{
 "cells": [
  {
   "cell_type": "code",
   "execution_count": null,
   "id": "valued-commander",
   "metadata": {},
   "outputs": [],
   "source": [
    "print(\"hello world\")"
   ]
  },
  {
   "cell_type": "code",
   "execution_count": null,
   "id": "rural-guarantee",
   "metadata": {},
   "outputs": [],
   "source": [
    "print(\"hello world 2\")"
   ]
  },
  {
   "cell_type": "code",
   "execution_count": null,
   "id": "particular-playlist",
   "metadata": {
    "lines_to_next_cell": 1
   },
   "outputs": [],
   "source": [
    "print(\"hello world 3\")"
   ]
  },
  {
   "cell_type": "markdown",
   "id": "medieval-invite",
   "metadata": {},
   "source": [
    "This is a multiline\n",
    "Markdown cell"
   ]
  },
  {
   "cell_type": "markdown",
   "id": "auburn-assumption",
   "metadata": {},
   "source": [
    "Another Markdown cell"
   ]
  },
  {
   "cell_type": "code",
   "execution_count": null,
   "id": "applied-breakfast",
   "metadata": {
    "lines_to_next_cell": 2
   },
   "outputs": [],
   "source": [
    "# This is a code cell\n",
    "class A:\n",
    "    def one():\n",
    "        return 1"
   ]
  },
  {
   "cell_type": "markdown",
   "id": "original-major",
   "metadata": {
    "lines_to_next_cell": 2
   },
   "source": [
    "How about some [link](google.com)\n",
    "**bold**, _italic_"
   ]
  },
  {
   "cell_type": "markdown",
   "id": "meaning-french",
   "metadata": {
    "lines_to_next_cell": 2
   },
   "source": [
    "# header 1\n",
    "## header 2\n",
    "### header 3\n",
    "#### header 4\n",
    "##### header 5"
   ]
  },
  {
   "cell_type": "code",
   "execution_count": null,
   "id": "coupled-dance",
   "metadata": {},
   "outputs": [],
   "source": [
    "sum = 0\n",
    "n = 10\n",
    "for i in range(0, n + 1):\n",
    "    sum += i"
   ]
  },
  {
   "cell_type": "code",
   "execution_count": null,
   "id": "bottom-peter",
   "metadata": {},
   "outputs": [],
   "source": [
    "print(sum)"
   ]
  },
  {
   "cell_type": "code",
   "execution_count": null,
   "id": "synthetic-frequency",
   "metadata": {},
   "outputs": [],
   "source": [
    "sum = 0\n",
    "n = 100\n",
    "for i in range(0, n + 1):\n",
    "    sum += i"
   ]
  },
  {
   "cell_type": "code",
   "execution_count": null,
   "id": "refined-corporation",
   "metadata": {},
   "outputs": [],
   "source": [
    "print(sum)"
   ]
  }
 ],
 "metadata": {
  "jupytext": {
   "formats": "ipynb,py:light"
  },
  "kernelspec": {
   "display_name": "Python 3",
   "language": "python",
   "name": "python3"
  }
 },
 "nbformat": 4,
 "nbformat_minor": 5
}
