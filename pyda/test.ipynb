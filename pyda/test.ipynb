{
 "cells": [
  {
   "cell_type": "code",
   "execution_count": null,
   "id": "collect-roller",
   "metadata": {},
   "outputs": [],
   "source": [
    "print(\"hello world\")"
   ]
  },
  {
   "cell_type": "markdown",
   "id": "meaning-actress",
   "metadata": {},
   "source": [
    "This is a multiline\n",
    "Markdown cell"
   ]
  },
  {
   "cell_type": "markdown",
   "id": "emerging-sucking",
   "metadata": {
    "lines_to_next_cell": 2
   },
   "source": [
    "Another Markdown cell"
   ]
  },
  {
   "cell_type": "code",
   "execution_count": null,
   "id": "imported-victorian",
   "metadata": {
    "lines_to_next_cell": 2
   },
   "outputs": [],
   "source": [
    "# This is a code cell\n",
    "class A:\n",
    "    def one():\n",
    "        return 1\n",
    "\n",
    "    def two():\n",
    "        return 2"
   ]
  },
  {
   "cell_type": "markdown",
   "id": "lesser-architecture",
   "metadata": {},
   "source": [
    "Not sure how to make this process more streamline 1\n",
    "\n",
    "Not sure how to make this process more streamline 1\n",
    "\n",
    "Not sure how to make this process more streamline 1\n",
    "\n",
    "This could be much better"
   ]
  }
 ],
 "metadata": {
  "jupytext": {
   "formats": "ipynb,py:light"
  },
  "kernelspec": {
   "display_name": "Python 3",
   "language": "python",
   "name": "python3"
  }
 },
 "nbformat": 4,
 "nbformat_minor": 5
}
